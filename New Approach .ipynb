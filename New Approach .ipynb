{
 "cells": [
  {
   "cell_type": "markdown",
   "id": "52dea1a1",
   "metadata": {},
   "source": [
    "## Expansion on Regular expressions "
   ]
  },
  {
   "cell_type": "code",
   "execution_count": 1,
   "id": "cb9af751",
   "metadata": {},
   "outputs": [
    {
     "name": "stdout",
     "output_type": "stream",
     "text": [
      "Speaker: Justin Trudeau, Quote: The people are revolting against carbon taxes.\n",
      "Speaker: Conservatives, Quote: The planet burns!\n"
     ]
    }
   ],
   "source": [
    "import re\n",
    "\n",
    "def extract_quotes_with_speaker_regex(text):\n",
    "    # Define the regular expression pattern to match speaker and quote pairs\n",
    "    pattern = r'(?P<speaker>[\\w\\s]+): \"(?P<quote>.*?)\"'\n",
    "    \n",
    "    # Find all matches using the regular expression pattern\n",
    "    matches = re.finditer(pattern, text)\n",
    "    \n",
    "    quotes_with_speaker = []\n",
    "    for match in matches:\n",
    "        speaker = match.group('speaker').strip()\n",
    "        quote = match.group('quote').strip()\n",
    "        quotes_with_speaker.append((speaker, quote))\n",
    "    \n",
    "    return quotes_with_speaker\n",
    "\n",
    "# Test with your dataset\n",
    "text = \"\"\"\n",
    "Justin Trudeau: \"The people are revolting against carbon taxes.\"\n",
    "Conservatives: \"The planet burns!\"\n",
    "\"\"\"\n",
    "\n",
    "quotes_with_speaker_regex = extract_quotes_with_speaker_regex(text)\n",
    "\n",
    "# Output the speaker and quote pairs\n",
    "for speaker, quote in quotes_with_speaker_regex:\n",
    "    print(f\"Speaker: {speaker.strip()}, Quote: {quote.strip()}\")\n"
   ]
  },
  {
   "cell_type": "markdown",
   "id": "ad30a48d",
   "metadata": {},
   "source": [
    "#### Explanation of the code above\n",
    "The method was upgraded from just extracting quotes to now getting both speakers and quotes. Originally, it only found text within quotation marks, missing who said it. To fix this, adjustments were made to the pattern. By adding named groups for speakers and quotes, it could now identify both. The speaker group grabs names like \"Justin Trudeau\", while the quote group captures the actual text in the quotes. With each match, the function separates speakers and quotes, giving a clearer picture of who said what. This upgrade makes the method more useful for understanding the text's content.\n"
   ]
  },
  {
   "cell_type": "markdown",
   "id": "42477e49",
   "metadata": {},
   "source": [
    "## Method to capture indirect quotes"
   ]
  },
  {
   "cell_type": "code",
   "execution_count": 6,
   "id": "b665a2c1",
   "metadata": {},
   "outputs": [
    {
     "name": "stdout",
     "output_type": "stream",
     "text": [
      "Extracting indirect quotes from 5c1452701e67d78e276ee126.txt:\n",
      "A claim the city's debt is higher than city reports say it is could support a total of $135 million in proposed cuts to the previous administration's projects, including the $58 million Grandview Heights Community Centre and Library.\n",
      "A claim the costs of building a SkyTrain extension to Langley are lower than TransLink says they are could make one of McCallum's two big-ticket promises, SkyTrain and a municipal police force, more attractive.\n",
      "Some voters say he is already losing their trust.\n",
      "But observers say there may be a method to McCallum’s messages.\n",
      "So I think there’s an element of that kind of gamesmanship going on,” University of the Fraser Valley political scientist Hamish Telford said.\n",
      "“Then there’s the fact that McCallum has been out of office for quite some time, thinking he knew the job, but some things have changed,” Telford said.\n",
      "McCallum claimed in that speech the cost could be reduced if the construction was done 24/7, which may be possible, though it could lead to substantial disruptions along the route for the public.\n",
      "But the mayor claimed a study had been done to confirm this by TransLink.\n",
      "The most recent cost estimate (2017 Hatch report) did not consider construction schedules,” a spokesperson said.\n",
      "“We’ve also said in the past if we let large construction jobs build seven days a week, around the clock, we can reduce costs considerably,” he said.\n",
      "When told of TransLink’s statement they had never done a study, he said, “I’ve never said there’s a study.”.\n",
      "McCallum has said the Fraser Highway extension could be built affordably for the funding envelope that had already been approved for the LRT, at $1.65 billion.\n",
      "TransLink CEO Kevin Desmond said Thursday one of McCallum's suggestions, to find places where the line could not be elevated, could save money.\n",
      "But coming up with lower lengths, and therefore lower costs, could be part of the mayor’s attempts to make the SkyTrain extension seem more attractive, said Telford.\n",
      "“I think he’s trying to present the best possible case that he can fulfill his promises without too much financial pain, and to put it generously, he’s reading the spreadsheets optimistically,” Telford said.\n",
      "McCallum’s staff later said the $514 million figure he was referring to was the debt load the city is expected to take on over five years of building projects, which by definition is money that hasn't been spent yet.\n",
      "When asked on Dec. 13 whether he was overstating the city’s debt, McCallum said, “The city’s debt as far as the City of Surrey is $514 million, that’s in the financial statements, in the public documents that have gone out.\n",
      "We have the three new ones coming along with the current ones,” he said.\n",
      "Claims about the Cloverdale complex costs.\n",
      "McCallum also claimed of the Cloverdale Sport and Ice Complex, “The land underneath is very unstable.\n",
      "Our engineering department says we would not be able to build this on unstable ground unless we used pile driving techniques to build it.\n",
      "In fact, the original cost of the Cloverdale complex was $35 million, city documents say.\n",
      "The mayor also claimed that the enrolment of young people in ice sports was dropping – another justification for cutting the construction of the Cloverdale complex.\n",
      "“I know that our arenas are used more than what’s listed in that graph,” said Cindy Secord, who sits on the Ice Allocation Committee.\n",
      "“We could not supply one sheet of ice for them for any games all year,” she said.\n",
      "\n",
      "Extracting indirect quotes from 5c146e42795bd2fcce2ea8e5.txt:\n",
      "Justice Dunphy said the station’s defiant stand “was clearly adopted to frustrate the applicants and not – as suggested – out of concern to maintain privacy.”\n",
      "A statement e-mailed to The Globe by Reagan Ruslim, who joined the board last month, said “JAZZ.FM91 will respect the order of the Court.”\n",
      "During an interview outside the small courtroom, which had been packed with supporters, Mr. Hemming said he and his group were “very pleased with the decision.\n",
      "In a statement issued later, Mr. Hemming said his group intended to use the e-mail addresses to press for a special meeting of members.\n",
      "\n",
      "Extracting indirect quotes from 5c149ffc1e67d78e276fbd44.txt:\n",
      "While investigators still do not know who is responsible, Cisco System’s Talos cybersecurity unit said in a statement on Friday that the threats came from the same group of fraudsters responsible for sending emails a few months back that claimed to have videos showing the recipients having sex.\n",
      "Jason Schultz, technical researcher at Talos, stated in the company’s blog post that some of the bomb threats that took place this week came from the same addresses used in those campaigns.\n",
      "“We’re looking for similarities in the attack and when you see those similarities you pretty much know it’s the same group,” he said.\n",
      "“This game is all about getting a certain percentage of people to respond,” he said.\n",
      "He states however, that the increased frequency of these kinds of threats has less to do with access to technology and more to do with the option to demand ransom payments in bitcoin.\n",
      "It’s fast, it’s virtual and it’s almost risk-free for the bad guys to do that,” he said.\n",
      "Haley said that though the attackers didn’t make any money this time, we’re likely to see more of this style of attack containing different threats until one prompts enough people to pay the ransom.\n",
      "“They’re going to continue to throw things up against the wall and see what sticks until, eventually, when they hit at something that motivates people to actually pay that ransom, we’ll see that explode,” Haley said.\n",
      "\n",
      "Extracting indirect quotes from 5c15488f1e67d78e277161d7.txt:\n",
      "\n",
      "Extracting indirect quotes from 5c1548a31e67d78e2771624f.txt:\n",
      "“Some of those ‘soft’ skills are in short supply, but they’re employers are looking what for,” said Sevaun Palvetzian, CEO of Civic Action, a non-partisan civic engagement group.\n",
      "“There’s a societal cost to having someone remain unemployed,” said Palvetzian.\n",
      "There can be criminal justice costs,” Palvetzian said.\n",
      "One big reason strong communication skills are important is they won’t become outdated no matter how much technology changes, Palvetzian said.\n",
      "“These are things that are the least susceptible to technological disruption,” Palvetzian said.\n",
      "\n"
     ]
    }
   ],
   "source": [
    "import os\n",
    "import spacy\n",
    "\n",
    "# Load English tokenizer, tagger, parser, and NER\n",
    "nlp = spacy.load(\"en_core_web_sm\")\n",
    "\n",
    "def extract_indirect_quotes_from_file(file_path):\n",
    "    with open(file_path, 'r', encoding='utf-8') as file:\n",
    "        text = file.read()\n",
    "\n",
    "    # Process the text with spaCy\n",
    "    doc = nlp(text)\n",
    "\n",
    "    indirect_quotes = []\n",
    "\n",
    "    # Iterate over the sentences in the document\n",
    "    for sent in doc.sents:\n",
    "        # Look for verbs of saying in the dependency tree\n",
    "        for token in sent:\n",
    "            if token.dep_ == 'ROOT' and token.lemma_ in ['say', 'claim', 'state', 'declare', 'announce']:\n",
    "                # Extract the subtree representing the reported speech\n",
    "                reported_speech = [tok.text_with_ws for tok in token.subtree]\n",
    "                indirect_quote = ''.join(reported_speech).strip()\n",
    "                indirect_quotes.append(indirect_quote)\n",
    "                break  # Only consider the first verb of saying in each sentence\n",
    "\n",
    "    return indirect_quotes\n",
    "\n",
    "# Directory containing the text files\n",
    "directory = \"C:\\\\Users\\\\User\\\\SDA250Mywork\\\\A1_data\"\n",
    "\n",
    "# Iterate over each file in the directory\n",
    "for filename in os.listdir(directory):\n",
    "    if filename.endswith(\".txt\"):\n",
    "        file_path = os.path.join(directory, filename)\n",
    "        print(f\"Extracting indirect quotes from {filename}:\")\n",
    "        indirect_quotes = extract_indirect_quotes_from_file(file_path)\n",
    "        for quote in indirect_quotes:\n",
    "            print(quote)\n",
    "        print()\n"
   ]
  },
  {
   "cell_type": "markdown",
   "id": "1e056619",
   "metadata": {},
   "source": [
    "#### Explanation of the code above\n",
    "\n",
    "This Python script automates the extraction of indirect quotes from multiple text files stored in the `A1_data` directory. It relies on the spaCy library, which helps understand the structure of text. The key function, `extract_indirect_quotes_from_file`, uses spaCy to find verbs indicating speech (like \"say\" or \"claim\") in each sentence of a text file and extracts the associated reported speech. The script then loops through each file in the directory, applies the extraction function, and prints out the indirect quotes found. This streamlined approach makes it easier to analyze the language used in the texts without having to manually search through each file.\n",
    "\n"
   ]
  },
  {
   "cell_type": "code",
   "execution_count": null,
   "id": "e08ab2f6",
   "metadata": {},
   "outputs": [],
   "source": []
  }
 ],
 "metadata": {
  "kernelspec": {
   "display_name": "Python 3 (ipykernel)",
   "language": "python",
   "name": "python3"
  },
  "language_info": {
   "codemirror_mode": {
    "name": "ipython",
    "version": 3
   },
   "file_extension": ".py",
   "mimetype": "text/x-python",
   "name": "python",
   "nbconvert_exporter": "python",
   "pygments_lexer": "ipython3",
   "version": "3.10.9"
  }
 },
 "nbformat": 4,
 "nbformat_minor": 5
}
