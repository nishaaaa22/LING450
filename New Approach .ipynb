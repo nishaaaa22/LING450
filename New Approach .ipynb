{
 "cells": [
  {
   "cell_type": "code",
   "execution_count": 1,
   "id": "2457c7b8",
   "metadata": {},
   "outputs": [
    {
     "name": "stdout",
     "output_type": "stream",
     "text": [
      "Speaker: Justin Trudeau, Quote: The people are revolting against carbon taxes.\n",
      "Speaker: Conservatives, Quote: The planet burns!\n"
     ]
    }
   ],
   "source": [
    "import re\n",
    "\n",
    "def extract_quotes_with_speaker_regex(text):\n",
    "    # Define the regular expression pattern to match speaker and quote pairs\n",
    "    pattern = r'(?P<speaker>[\\w\\s]+): \"(?P<quote>.*?)\"'\n",
    "    \n",
    "    # Find all matches using the regular expression pattern\n",
    "    matches = re.finditer(pattern, text)\n",
    "    \n",
    "    quotes_with_speaker = []\n",
    "    for match in matches:\n",
    "        speaker = match.group('speaker').strip()\n",
    "        quote = match.group('quote').strip()\n",
    "        quotes_with_speaker.append((speaker, quote))\n",
    "    \n",
    "    return quotes_with_speaker\n",
    "\n",
    "# Test with your dataset\n",
    "text = \"\"\"\n",
    "Justin Trudeau: \"The people are revolting against carbon taxes.\"\n",
    "Conservatives: \"The planet burns!\"\n",
    "\"\"\"\n",
    "\n",
    "quotes_with_speaker_regex = extract_quotes_with_speaker_regex(text)\n",
    "\n",
    "# Output the speaker and quote pairs\n",
    "for speaker, quote in quotes_with_speaker_regex:\n",
    "    print(f\"Speaker: {speaker.strip()}, Quote: {quote.strip()}\")\n"
   ]
  },
  {
   "cell_type": "code",
   "execution_count": 2,
   "id": "3052f16b",
   "metadata": {},
   "outputs": [
    {
     "name": "stdout",
     "output_type": "stream",
     "text": [
      "Indirect quotes from 5c1452701e67d78e276ee126.txt:\n",
      "- \"children\"\n",
      "- \"450,000\"\n",
      "\n",
      "Indirect quotes from 5c146e42795bd2fcce2ea8e5.txt:\n",
      "- \"group noting\"\n",
      "\n",
      "Indirect quotes from 5c149ffc1e67d78e276fbd44.txt:\n",
      "- \"less\"\n",
      "- \"way\"\n",
      "- \"make\"\n",
      "- \"explode\"\n",
      "\n",
      "Indirect quotes from 5c15488f1e67d78e277161d7.txt:\n",
      "- \"hunger act\"\n",
      "\n",
      "Indirect quotes from 5c1548a31e67d78e2771624f.txt:\n",
      "- \"stays society million\"\n",
      "\n"
     ]
    }
   ],
   "source": [
    "import spacy\n",
    "import os\n",
    "\n",
    "# Load English tokenizer, tagger, parser, NER, and word vectors\n",
    "nlp = spacy.load(\"en_core_web_sm\")\n",
    "\n",
    "def extract_indirect_quotes_from_file(file_path):\n",
    "    with open(file_path, \"r\", encoding=\"utf-8\") as file:\n",
    "        text = file.read()\n",
    "    \n",
    "    # Process the text with spaCy\n",
    "    doc = nlp(text)\n",
    "    \n",
    "    # Initialize a list to store indirect quotes\n",
    "    indirect_quotes = []\n",
    "    \n",
    "    # Iterate through the tokens in the document\n",
    "    for token in doc:\n",
    "        # Check for verbs indicating communication\n",
    "        if token.pos_ == \"VERB\" and token.dep_ in (\"ccomp\", \"xcomp\", \"advcl\"):\n",
    "            # Check if the verb is in reported speech\n",
    "            if any(child.text == \"that\" and child.dep_ == \"mark\" for child in token.children):\n",
    "                # Extract the direct object as the reported speech\n",
    "                direct_object = [child.text for child in token.children if child.dep_ in (\"dobj\", \"attr\", \"ccomp\", \"xcomp\", \"advcl\")]\n",
    "                direct_quote = \" \".join(direct_object)\n",
    "                if direct_quote:\n",
    "                    indirect_quotes.append(direct_quote.strip())\n",
    "    \n",
    "    return indirect_quotes if indirect_quotes else None\n",
    "\n",
    "# Directory containing the text files\n",
    "directory = \"C:\\\\Users\\\\User\\\\SDA250Mywork\\\\A1_data\"\n",
    "\n",
    "# Iterate over each text file in the directory\n",
    "for filename in os.listdir(directory):\n",
    "    if filename.endswith(\".txt\"):\n",
    "        file_path = os.path.join(directory, filename)\n",
    "        quotes = extract_indirect_quotes_from_file(file_path)\n",
    "        print(f\"Indirect quotes from {filename}:\")\n",
    "        if quotes:\n",
    "            for quote in quotes:\n",
    "                print(f\"- \\\"{quote}\\\"\")\n",
    "        else:\n",
    "            print(\"No indirect quotes found.\")\n",
    "        print()\n"
   ]
  },
  {
   "cell_type": "code",
   "execution_count": null,
   "id": "b57b2cf7",
   "metadata": {},
   "outputs": [],
   "source": []
  }
 ],
 "metadata": {
  "kernelspec": {
   "display_name": "Python 3 (ipykernel)",
   "language": "python",
   "name": "python3"
  },
  "language_info": {
   "codemirror_mode": {
    "name": "ipython",
    "version": 3
   },
   "file_extension": ".py",
   "mimetype": "text/x-python",
   "name": "python",
   "nbconvert_exporter": "python",
   "pygments_lexer": "ipython3",
   "version": "3.10.9"
  }
 },
 "nbformat": 4,
 "nbformat_minor": 5
}
