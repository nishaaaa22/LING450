{
 "cells": [
  {
   "cell_type": "code",
   "execution_count": 1,
   "id": "0d4e6f47",
   "metadata": {},
   "outputs": [
    {
     "name": "stdout",
     "output_type": "stream",
     "text": [
      "Speaker: Justin Trudeau, Quote: The people are revolting against carbon taxes.\n",
      "Speaker: Conservatives, Quote: The planet burns!\n"
     ]
    }
   ],
   "source": [
    "import re\n",
    "\n",
    "def extract_quotes_with_speaker_regex(text):\n",
    "    # Define the regular expression pattern to match speaker and quote pairs\n",
    "    pattern = r'(?P<speaker>[\\w\\s]+): \"(?P<quote>.*?)\"'\n",
    "    \n",
    "    # Find all matches using the regular expression pattern\n",
    "    matches = re.finditer(pattern, text)\n",
    "    \n",
    "    quotes_with_speaker = []\n",
    "    for match in matches:\n",
    "        speaker = match.group('speaker').strip()\n",
    "        quote = match.group('quote').strip()\n",
    "        quotes_with_speaker.append((speaker, quote))\n",
    "    \n",
    "    return quotes_with_speaker\n",
    "\n",
    "# Test with your dataset\n",
    "text = \"\"\"\n",
    "Justin Trudeau: \"The people are revolting against carbon taxes.\"\n",
    "Conservatives: \"The planet burns!\"\n",
    "\"\"\"\n",
    "\n",
    "quotes_with_speaker_regex = extract_quotes_with_speaker_regex(text)\n",
    "\n",
    "# Output the speaker and quote pairs\n",
    "for speaker, quote in quotes_with_speaker_regex:\n",
    "    print(f\"Speaker: {speaker.strip()}, Quote: {quote.strip()}\")\n"
   ]
  },
  {
   "cell_type": "code",
   "execution_count": null,
   "id": "7132fc73",
   "metadata": {},
   "outputs": [],
   "source": []
  }
 ],
 "metadata": {
  "kernelspec": {
   "display_name": "Python 3 (ipykernel)",
   "language": "python",
   "name": "python3"
  },
  "language_info": {
   "codemirror_mode": {
    "name": "ipython",
    "version": 3
   },
   "file_extension": ".py",
   "mimetype": "text/x-python",
   "name": "python",
   "nbconvert_exporter": "python",
   "pygments_lexer": "ipython3",
   "version": "3.10.9"
  }
 },
 "nbformat": 4,
 "nbformat_minor": 5
}
