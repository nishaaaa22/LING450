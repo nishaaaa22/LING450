{
 "cells": [
  {
   "cell_type": "markdown",
   "id": "be347187",
   "metadata": {},
   "source": [
    "# Ling 450/807 SFU - Assignment 1\n",
    "\n",
    "This assignment walks you through two different ways of extracting simple quotes from text and then directs you to a third, already implemented way. Your task is to enhance the simple methods or develop your own. For further instructions, check the assignment file on Canvas. You'll need this notebook and the sample files in the A1_data directory. "
   ]
  },
  {
   "cell_type": "markdown",
   "id": "93cd57cf",
   "metadata": {},
   "source": [
    "## Import packages\n",
    "\n",
    "We import everything we will need here at the beginning and load the spaCy language model. Note that we are using the small English model. One thing you could try is to download and load [other models for English](https://spacy.io/models/en) and compare the results. "
   ]
  },
  {
   "cell_type": "code",
   "execution_count": 23,
   "id": "65927718",
   "metadata": {},
   "outputs": [],
   "source": [
    "import spacy\n",
    "import re\n",
    "import os\n",
    "from spacy.matcher import Matcher\n",
    "nlp = spacy.load(\"en_core_web_sm\")\n",
    "matcher = Matcher(nlp.vocab)"
   ]
  },
  {
   "cell_type": "markdown",
   "id": "25d845f6",
   "metadata": {},
   "source": [
    "## Approach 1: Using regular expressions"
   ]
  },
  {
   "cell_type": "markdown",
   "id": "f8218a1e",
   "metadata": {},
   "source": [
    "### Finding text within quotes"
   ]
  },
  {
   "cell_type": "code",
   "execution_count": 27,
   "id": "6f298b5a",
   "metadata": {},
   "outputs": [
    {
     "name": "stdout",
     "output_type": "stream",
     "text": [
      "Quotes extracted from C:\\Users\\User\\SDA250Mywork\\A1_data\\5c1452701e67d78e276ee126.txt:\n",
      "I was clear when I was mayor – I don’t support Uber at all,\n",
      "It was a twinkle in some engineer’s eye some years ago.\n",
      "Mayor McCallum’s statements vary greatly from truth,\n",
      "There’s a tried-and-true method in Canadian politics: after an election a new government takes office and says, ‘Oh my gosh, the cupboards are bare.’ Or, ‘We’re much deeper in debt than I thought we were, and now I’ve seen the real books.' So I think there’s an element of that kind of gamesmanship going on,\n",
      "Then there’s the fact that McCallum has been out of office for quite some time, thinking he knew the job, but some things have changed,\n",
      "If you take Fraser Highway SkyTrain and if we’re building that seven days a week around the clock, we probably can save, and this is TransLink’s figures, we can probably save $2-300 million,\n",
      "TransLink has not conducted any detailed study on potential construction methods for a SkyTrain route from Surrey to Langley. The most recent cost estimate (2017 Hatch report) did not consider construction schedules,\n",
      "We’ve also said in the past if we let large construction jobs build seven days a week, around the clock, we can reduce costs considerably,\n",
      "I’ve never said there’s a study.\n",
      "The Evergreen Line that was recently built, same distance, elevated all the way, actually goes through a tunnel, completed a year and a half ago, for only $1.4 billion,\n",
      "I care not about the technology. If Surrey wants to change to SkyTrain, that’s fine, but they’re going to get half as far as they would have with LRT,\n",
      "I think he’s trying to present the best possible case that he can fulfill his promises without too much financial pain, and to put it generously, he’s reading the spreadsheets optimistically,\n",
      "When the books were shown to me, I was deeply dismayed and shaken to the core to see how much debt the City of Surrey has been carrying,\n",
      "The fact that the debt load is at $514 million is simply untenable and frankly irresponsible.\n",
      "previously approved\n",
      "previously approved\n",
      "internal debt approved for the 2018-2022 General Capital Program.\n",
      "The city’s debt as far as the City of Surrey is $514 million, that’s in the financial statements, in the public documents that have gone out. I’ve never misstated that debt. So that’s there. We’ve passed a draft budget. It takes into consideration the very large debt that we need to bring down.\n",
      "We have one ice rink in South Surrey, we have one in Cloverdale, we have three in Fleetwood which is only 10 minutes from Cloverdale. We have one in Newton, and we have two in our city centre. We have three opening brand new in the middle of next year in Bridgeview, by the Patullo Bridge. We have the three new ones coming along with the current ones,\n",
      "We found that a little bit misleading, they were talking about all the new arenas, but in reality we won’t be gaining three. Two of the arenas will be taken away. You’re only getting one new rink,\n",
      "The land underneath is very unstable. Our engineering department says we would not be able to build this on unstable ground unless we used pile driving techniques to build it. Pile driving if anyone knows construction is very expensive construction. Originally it was planned to be $45 million, but that would increase considerably if we had to pile drive it.\n",
      "We have in the last eight to nine years had a declining use of ice for hockey. Each year it’s declining in participation and usage. We have a chart of that to show you,\n",
      "I know that our arenas are used more than what’s listed in that graph,\n",
      "That graph should go in the other direction.\n",
      "We could not supply one sheet of ice for them for any games all year,\n",
      "We’re turning away potential users because there’s nothing there.\n",
      "There are many possible reasons why the 2018 numbers appear low which may include waitlist accommodation, adding teaching stations, waitlist management. The numbers are being run from our stored data is not being modified.\n",
      "\n",
      "Quotes extracted from C:\\Users\\User\\SDA250Mywork\\A1_data\\5c146e42795bd2fcce2ea8e5.txt:\n",
      "playing games\n",
      "was clearly adopted to frustrate the applicants and not – as suggested – out of concern to maintain privacy.\n",
      "This has degenerated into an acrimonious fight,\n",
      "It needn’t be so adversarial.\n",
      "JAZZ.FM91 will respect the order of the Court.\n",
      "have a further statement next week. Stay tuned!\n",
      "very pleased with the decision. This really just levels the playing field and gives us an opportunity to talk to members about what our proposals are – and that’s all we ever wanted.\n",
      "The purpose of the meeting would be to vote out the incumbent board and then vote in a new board of directors proposed by Save JAZZ.FM91.\n",
      "tossing roadblocks in the way of democracy,\n",
      "it would be sending the wrong message\n",
      "because of the lack of good governance and transparency. I’m coming back because change is in sight, and if I can assist in bringing that positive change, I’m in with both feet.\n",
      "\n",
      "Quotes extracted from C:\\Users\\User\\SDA250Mywork\\A1_data\\5c149ffc1e67d78e276fbd44.txt:\n",
      "sextortion\n",
      "Cisco Talos discovered that this campaign is actually an evolution of sextortion and extortion attacks that we reported on in October. The claims in the emails we’ve seen from this actor are completely false, yet they have caused untold amounts of damage as organizations have evacuated buildings and called upon law enforcement to investigate,\n",
      "sextortion\n",
      "Multiple IPs involved in sending these bomb threats also sent various types of sextortion email that we saw in the previous campaign. In those cases, the attackers sent out emails claiming to have compromising videos of the victim and (threatened to) release them to the public unless the attacker (received) a bitcoin payment,\n",
      "We believe it’s the same group,\n",
      "We’re looking for similarities in the attack and when you see those similarities you pretty much know it’s the same group,\n",
      "innovation\n",
      "sextortion\n",
      "This game is all about getting a certain percentage of people to respond,\n",
      "The sextortion spam is not new. What’s new is they had a new twist that they thought could increase the amount of money they could make,\n",
      "While this caused chaos, it doesn’t look like it made them any money so they’ve moved on.\n",
      "What’s different here is that there is an easy way to exploit people, and that’s cryptocurrency. It’s fast, it’s virtual and it’s almost risk-free for the bad guys to do that,\n",
      "explode.\n",
      "They’re going to continue to throw things up against the wall and see what sticks until, eventually, when they hit at something that motivates people to actually pay that ransom, we’ll see that explode,\n",
      "We’ll see hundreds of thousands, millions of these emails. Everybody will start getting them in their mailbox.\n",
      "\n",
      "Quotes extracted from C:\\Users\\User\\SDA250Mywork\\A1_data\\5c15488f1e67d78e277161d7.txt:\n",
      "Justin Trudeau and the Liberals should pay attention to the riots happening in France. The people are revolting against carbon taxes, open immigration and the arrogance of the progressive socialist government,\n",
      "pay up and pollute all you want\n",
      "While Conservatives fiddle, the planet burns!\n",
      "goal post\n",
      "\n",
      "Quotes extracted from C:\\Users\\User\\SDA250Mywork\\A1_data\\5c1548a31e67d78e2771624f.txt:\n",
      "Some of those ‘soft’ skills are in short supply, but they’re what employers are looking for,\n",
      "There’s a societal cost to having someone remain unemployed,\n",
      "There are health-care costs. There are welfare costs. There can be criminal justice costs,\n",
      "road map\n",
      "should move to skills-based hiring,\n",
      "practices that prioritize … credentials and experience.\n",
      "These are things that are the least susceptible to technological disruption,\n",
      "\n"
     ]
    }
   ],
   "source": [
    "import re\n",
    "import os\n",
    "\n",
    "# Define function to extract text within quotes\n",
    "def get_quotes(text):\n",
    "    quotes = re.findall(r'“(.*?)”', text)\n",
    "    return quotes\n",
    "\n",
    "# Directory containing the text files\n",
    "directory = \"C:\\\\Users\\\\User\\\\SDA250Mywork\\\\A1_data\"\n",
    "\n",
    "# Process each text file in the directory\n",
    "for filename in os.listdir(directory):\n",
    "    if filename.endswith('.txt'):\n",
    "        file_path = os.path.join(directory, filename)\n",
    "        with open(file_path, \"r\", encoding='utf-8') as f:\n",
    "            text = f.read()\n",
    "\n",
    "        print(f\"Quotes extracted from {file_path}:\")\n",
    "        quotes = get_quotes(text)\n",
    "\n",
    "        # Print the extracted quotes\n",
    "        for quote in quotes:\n",
    "            print(quote)\n",
    "        print()\n"
   ]
  },
  {
   "cell_type": "markdown",
   "id": "25227db3",
   "metadata": {},
   "source": [
    "## Approach 2: Using spaCy's Matcher"
   ]
  },
  {
   "cell_type": "markdown",
   "id": "b207ae63",
   "metadata": {},
   "source": [
    "This approach is based on notebooks by [William J.B. Mattingly](https://wjbmattingly.com/). His book, Introduction to Python for Humanists, is available online from the [SFU Library](https://sfu-primo.hosted.exlibrisgroup.com/permalink/f/usv8m3/01SFUL_ALMA51476999620003611). \n",
    "\n",
    "For more on spaCy's Matcher, see Advanced NLP with spaCy, [chapter 2](https://course.spacy.io/en/chapter2)). \n",
    "\n",
    "We have already loaded everything we need at the beginning of this notebook (imported Matcher, assigned it to a `matcher` object), so now we can use it. "
   ]
  },
  {
   "cell_type": "markdown",
   "id": "2d6f0879",
   "metadata": {},
   "source": [
    "## Finding quotes and speakers"
   ]
  },
  {
   "cell_type": "code",
   "execution_count": null,
   "id": "033dc122",
   "metadata": {},
   "outputs": [],
   "source": [
    "# load a text file. Remember, you have to do 5\n",
    "with open (\"A1_data/5c1dbe1d1e67d78e2797d611.txt\", \"r\", encoding='utf-8') as f:\n",
    "    text = f.read()"
   ]
  },
  {
   "cell_type": "code",
   "execution_count": null,
   "id": "3c4213f1",
   "metadata": {},
   "outputs": [],
   "source": [
    "# convert it to a spacy doc\n",
    "doc = nlp(text)"
   ]
  },
  {
   "cell_type": "markdown",
   "id": "84ee2f7c",
   "metadata": {},
   "source": [
    "### Finding proper nouns"
   ]
  },
  {
   "cell_type": "code",
   "execution_count": null,
   "id": "cd311bf0",
   "metadata": {},
   "outputs": [],
   "source": [
    "# This is optional. It just tells you who are the people mentioned. You can use it later if you want to find out the speakers of the quotes\n",
    "\n",
    "matcher = Matcher(nlp.vocab)\n",
    "pattern_n = [{\"POS\": \"PROPN\"}]\n",
    "matcher.add(\"PROPER_NOUNS\", [pattern_n], greedy=\"LONGEST\")\n",
    "doc = nlp(text)\n",
    "matches = matcher(doc)\n",
    "print (len(matches))\n",
    "for match in matches[:10]:\n",
    "    print (match, doc[match[1]:match[2]])\n",
    "    \n",
    "## You can try to extract full names by adding multi-word nouns, http://spacy.pythonhumanities.com/02_02_matcher.html"
   ]
  },
  {
   "cell_type": "markdown",
   "id": "756f92f2",
   "metadata": {},
   "source": [
    "### Finding quotes"
   ]
  },
  {
   "cell_type": "code",
   "execution_count": null,
   "id": "3c4070a4",
   "metadata": {},
   "outputs": [],
   "source": [
    "# a simple pattern to extract things in single quotes\n",
    "# as with Approach 1, the for loop prints the results to the screen\n",
    "# you can try and save it to a file if you want to compare with Approach 1 and 3\n",
    "\n",
    "matcher = Matcher(nlp.vocab)\n",
    "pattern_q = [{'ORTH': '\"'}, {'IS_ALPHA': True, \"OP\": \"+\"}, {'IS_PUNCT': True, \"OP\": \"*\"}, {'ORTH': '\"'}]\n",
    "matcher.add(\"QUOTES\", [pattern_q], greedy='LONGEST')\n",
    "doc = nlp(text)\n",
    "matches_q = matcher(doc)\n",
    "matches_q.sort(key = lambda x: x[1])\n",
    "print (len(matches_q))\n",
    "for match in matches_q[:10]:\n",
    "    print (match, doc[match[1]:match[2]])"
   ]
  },
  {
   "cell_type": "markdown",
   "id": "296dbcc1",
   "metadata": {},
   "source": [
    "## Approach 3: Implemented version\n",
    "This approach was implemented by colleagues at the [Australian Text Analytics Platform](https://www.atap.edu.au/) (ATAP). The approach is based on the [Gender Gap Tracker](https://github.com/sfu-discourse-lab/GenderGapTracker) done in the Discourse Processing Lab here at SFU. \n",
    "\n",
    "The first link below leads you to a binder where you can load your own files and download the output. If you prefer to do everything in your own notebook, you can download/clone the project from GitHub. \n",
    "\n",
    "* [Binder link](https://github.com/Australian-Text-Analytics-Platform/quotation-tool/blob/workshop_01_20220908/README.md)\n",
    "\n",
    "    * Click on the \"binder launch\" button.\n",
    "    * At the CILogin, under \"Select an Identity Provider\", go to the drop-down menu (usually default as ORCID) and select \"Simon Fraser University\".\n",
    "    * This launches [Binder](https://mybinder.readthedocs.io/en/latest/), a service that allows you to run a notebook online on Jupyter Lab (similar to Google Colab). \n",
    "    * Run all the code cells in that notebook, uploading files from the A1_data directory. \n",
    "    * At the end, you can save the output as an Excel file. \n",
    "\n",
    "* [Regular GitHub project](https://github.com/Australian-Text-Analytics-Platform/quotation-tool)\n",
    "\n",
    "    * Run the notebook \"quote_extractor_notebook.ipynb\"\n",
    "\n",
    "Within the ATAP binder, upload 5 files from A1_data (the same you did for approaches 1 and 2), process them and download the results to your own computer. "
   ]
  },
  {
   "cell_type": "markdown",
   "id": "8674803d",
   "metadata": {},
   "source": [
    "## Your turn\n",
    "\n",
    "Check instructions on Canvas for what to do and what to submit. \n",
    "\n"
   ]
  },
  {
   "cell_type": "code",
   "execution_count": null,
   "id": "55ef8ee8",
   "metadata": {},
   "outputs": [],
   "source": []
  }
 ],
 "metadata": {
  "kernelspec": {
   "display_name": "Python 3 (ipykernel)",
   "language": "python",
   "name": "python3"
  },
  "language_info": {
   "codemirror_mode": {
    "name": "ipython",
    "version": 3
   },
   "file_extension": ".py",
   "mimetype": "text/x-python",
   "name": "python",
   "nbconvert_exporter": "python",
   "pygments_lexer": "ipython3",
   "version": "3.10.9"
  }
 },
 "nbformat": 4,
 "nbformat_minor": 5
}
